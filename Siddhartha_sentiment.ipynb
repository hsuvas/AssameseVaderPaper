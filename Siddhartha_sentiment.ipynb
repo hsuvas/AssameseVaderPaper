{
  "cells": [
    {
      "cell_type": "markdown",
      "source": [
        "## Loading neccessary files"
      ],
      "metadata": {
        "id": "uieILEJvGlVg"
      }
    },
    {
      "cell_type": "code",
      "execution_count": null,
      "metadata": {
        "colab": {
          "base_uri": "https://localhost:8080/"
        },
        "id": "bnJLzahdx_18",
        "outputId": "58f58c0f-a807-4d62-ea7c-4df5d13e0b24"
      },
      "outputs": [
        {
          "name": "stdout",
          "output_type": "stream",
          "text": [
            "[nltk_data] Downloading package punkt to /root/nltk_data...\n",
            "[nltk_data]   Package punkt is already up-to-date!\n"
          ]
        }
      ],
      "source": [
        "import nltk\n",
        "nltk.download('punkt')\n",
        "from nltk import word_tokenize"
      ]
    },
    {
      "cell_type": "code",
      "execution_count": null,
      "metadata": {
        "colab": {
          "base_uri": "https://localhost:8080/"
        },
        "id": "7BzOwr3MyFss",
        "outputId": "9e05f18e-c5c2-4c70-ae8c-47145e2169d9"
      },
      "outputs": [
        {
          "name": "stdout",
          "output_type": "stream",
          "text": [
            "Drive already mounted at /gdrive; to attempt to forcibly remount, call drive.mount(\"/gdrive\", force_remount=True).\n"
          ]
        }
      ],
      "source": [
        "#not required if running in local system\n",
        "from google.colab import drive\n",
        "drive.mount('/gdrive')"
      ]
    },
    {
      "cell_type": "markdown",
      "source": [
        "## Taking text as the input and preprocessing"
      ],
      "metadata": {
        "id": "mmCGA7IXAAAJ"
      }
    },
    {
      "cell_type": "code",
      "execution_count": 128,
      "metadata": {
        "id": "FurGgUXkxa9k"
      },
      "outputs": [],
      "source": [
        "#put your own textfile\n",
        "text = 'চাৰিওফালে দুপৰীয়াৰ নিস্তব্ধতা। চহৰৰ বুকুৰ চঞ্চলতাৰ বহু আঁতৰত নিজান ঠাইখনৰ দাঁতিতে থকা সৰু টিলাটোৰ ওপৰত মোৰ সৰু ঘৰটো । সৰু যদিও সুন্দৰ। সমুখৰ নিজম ঘাঁহনিডৰাৰ চাৰিওকাষে নানা ধৰণৰ ফুলৰ বেড্। আলিৰ সিপাৰে সমতল চৰকাৰী হাবিডৰাৰ মাজে মাজে দুই-চাৰিজোপা ডাঙৰ ডাঙৰ গছ। গছৰ গুৰিয়ে বনৰীয়া ডেফ্‌নী ফুলজোপা। গছৰ ফাকে ফাকে মোনাটোত চকু মুদি হাত ভৰাই উলিয়াই অনা টিকটটোৰ দৰেই, জীৱনৰ জুৱা খেলাটো চকু মুদিয়েই তুলি লʼলো মায়াক। নিজক ধিক্কাৰ দিছিলো-- কিয় মাৰ চকুলো দেখি নিজস্ব সকলো স্বাধীনতা বিসৰ্জন দি এটা গলগ্ৰহ চপাই লʼলোঁ। এতিয়াও মনত পৰে ঘৰলৈ অনাৰ পাছতো চাৰি-পাঁচ দিনটো মায়াৰ ফালে এবাৰো ঘূৰি চোৱা নাছিলো। আগ্ৰহো নাছিল, ইচ্ছা নাছিল, ধাৰণাও নাছিল, যাক আনিলো তেওঁ দেখিবলৈ কেনে? আঁতৰি আঁতৰি ফুৰিছিলো, সকলোৰে ওপৰত খং উঠিছিল, এই মায়াৰ ওপৰত। কিয়? কিয় এই ছোৱালীজনীয়ে মোৰ সুখ-শান্তকণ শেষ কৰিবলৈ আহিল? দুৰ্ভাবনাত, দুঃচিন্তাত সকলো অনাধাৰ হৈ উঠিছিল। অকলতো সেয়ে নহয়, যিগৰাকীক লৈ এই সকলো চিন্তা ভাবনা উৎপত্তি, সেইজনাৰ আজিৰ ন-ছোৱালীৰ লাজৰ ঢাকনিৰ তলত লুকাই থোৱা আচল ৰূপটো, দুদিন পাছত বা কি মূৰ্তি ধৰি আত্মপ্ৰকাশ কৰে, তাক ভাবি অন্তৰাত্মা কঁপি উঠিছিল। ভয়ত পলাই পলাই ফুৰিছিলো।'"
      ]
    },
    {
      "cell_type": "code",
      "execution_count": 129,
      "metadata": {
        "id": "H276hkmMzOcV"
      },
      "outputs": [],
      "source": [
        "def preprocess(t):\n",
        "\n",
        "    docAS=t.split('।')\n",
        "    stopwords = ['অগত্যা', 'অতএব', 'অতি', 'অথচ', 'অথনি', 'অথনিকৈ', 'অথবা', 'অধঃ', 'অধিক', 'অনুসৰি', 'অন্ততঃ', 'অৰ্থাত্', 'অৰ্থাৎ', 'অৰ্থে', 'অৱশ্য', 'অৱশ্যে', 'আঁ', 'আঃ', 'আও', 'আকৌ', 'আগতে', 'আচ্ছা', 'আদি', 'আপাততঃ', 'আস', 'আহা', 'আহ্', 'আয়ৈ', 'আৰম্ভ', 'আৰু', 'ইঃ', 'ইচ্', 'ইতস্ততঃ', 'ইতি', 'ইত্যাদি', 'ইস্', 'ইহ', 'ইয়াৰ', 'উঃ', 'উপৰি', 'উস্\\u200c', 'উৱা', 'এই', 'এইধৰণৰ', 'এইবোৰ', 'এতেকে', 'এথোন', 'এনে', 'এনেই', 'এনেকুৱা', 'এনেতে', 'এয়ে', 'ঐ', 'ওঁ', 'ওপৰত', 'ওপৰিও', 'ওপৰোক্ত', 'ওপৰৰ', 'ওলাই', 'ওৰফে', 'ওৰে', 'ঔচ্\\u200c', 'কʼতবাত', 'কʼতা', 'কʼতো', 'কথমপি', 'কদাচিত', 'কদাপি', 'কস্মিন্\\u200cকালে', 'কাইলৈ', 'কাচিত্\\u200d', 'কাষৰ', 'কি', 'কিছুমান', 'কিন্তু', 'কিম্বা', 'কিয়নো', 'কেনি', 'কেলেই', 'কেৱল', 'কৈ', 'কোনো', 'ক্ৰমশঃ', 'ক্ৰমাত্\\u200d', 'ক্ৰমান্বয়ে', 'কৰা', 'কৰি', 'কৰিব', 'কৰিবৰ', 'কৰে', 'খাই', 'গৈ', 'চাগৈ', 'চুঃ', 'চুহ্', 'চোন', 'চ্ছেদ', 'ছাৰি', 'ছিকৌ', 'ছেই', 'জটিল', 'জানিবা', 'জানো', 'জানোচা', 'টানিলে', 'টুটি', 'ঠাহ্', 'ঢুত্\\u200d', 'ঢেঁট্\\u200c', 'তত', 'ততালিকে', 'ততেক', 'তত্ৰাচ', 'তত্\\u200dকালে', 'তত্\\u200dক্ষণাত্\\u200d', 'তথা', 'তথৈবচ', 'তদনুযায়ী', 'তদনুসাৰে', 'তদনুসৰি', 'তদভাৱে', 'তদুপৰি', 'তলত', 'তাক', 'তাতে', 'তুলনাত', 'তেওঁ', 'তেতিয়া', 'তেতেক', 'তেনি', 'তেন্তে', 'তেহে', 'তো', 'তৌৱা', 'থকা', 'থাকে', 'দিয়া', 'দুই', 'দুভাগত', 'দুয়ো', 'দুয়োফালে', 'দেই', 'দেহা', 'দেহি', 'দ্বাৰা', 'দৰে', 'ধিক্', 'ধৰণে', 'ধৰণৰ', 'ধৰি', 'নচেত্\\u200d', 'নতুবা', 'নাইবা', 'নাথাকে', 'নি', 'নিৰ্ভৰ', 'নো', 'নোৱাৰি', 'নৌ', 'পশ্চাত্\\u200d', 'পশ্চাৎ', 'পাছে', 'পাৰি', 'পিছত', 'পিছৰ', 'পিনে', 'পুনৰ', 'পৃথক', 'প্ৰকৃত', 'পৰা', 'পৰাই', 'পৰি', 'পৰ্বৰ', 'পৰ্যন্ত', 'ফালটোক', 'ফালৰ', 'বঢ়াৰ', 'বহিঃ', 'বা', 'বাওঁ', 'বাকী', 'বাবে', 'বাহিৰলৈ', 'বাহিৰে', 'বাহ্\\u200c', 'বাৰু', 'বিনে', 'বে', 'বেছি', 'বোলে', 'বোৰ', 'বৰঞ্চ', 'ভগাব', 'ভগোৱা', 'ভাগত', 'ভাৱে', 'ভিত্তি', 'ভিতৰত', 'মতে', 'মানত', 'মাজত', 'মাজেৰে', 'মাজৰ', 'মাত্ৰ', 'মাত্ৰেই', 'মুঠে', 'যথা', 'যদি', 'যদ্যপি', 'যায়', 'যাৱৎ', 'যি', 'যিকোনো', 'যিয়ে', 'যে', 'যেতিয়া', 'যেন', 'যেনিবা', 'যেনে', 'যোগে', 'লগ', 'লৈ', 'সকলোবোৰ', 'সজ্জিত', 'সত্ত্বে', 'সমন্ধি', 'সমান', 'সমানে', 'সম্প্ৰতি', 'সময়ত', 'সহ', 'সু', 'সুবিধা', 'সেইদেখি', 'সেইবোৰ', 'সেইবোৰক', 'সৈতে', 'সোঁ', 'সোমায়', 'স্বতঃ', 'হঞে', 'হতুৱা', 'হন্তে', 'হবলা', 'হা', 'হুঁ', 'হুই', 'হে', 'হেঃ', 'হেই', 'হেতুকে', 'হেনে', 'হেনো', 'হেৰ', 'হেৰি', 'হৈ', 'হৈছে', 'হোঁ', 'হোৱাৰ', 'হয়', 'ৰাখিবলগীয়া', 'ৰুধিৰ', 'সম্পৰ্কে']\n",
        "    proc_list=[]\n",
        "    for sentence in docAS:\n",
        "      for i in stopwords:\n",
        "        if i in sentence:\n",
        "          sentence.replace(i,'')\n",
        "      proc_list.append(sentence)\n",
        "    return proc_list\n",
        "\n",
        "    "
      ]
    },
    {
      "cell_type": "code",
      "source": [
        "text_list = preprocess(text)\n",
        "word_tokens = word_tokenize(text)"
      ],
      "metadata": {
        "id": "uhLdyoYZ-ug6"
      },
      "execution_count": 131,
      "outputs": []
    },
    {
      "cell_type": "markdown",
      "source": [
        "## Loading the lexicon file to a dataframe"
      ],
      "metadata": {
        "id": "wGarB9GIG29m"
      }
    },
    {
      "cell_type": "code",
      "execution_count": 132,
      "metadata": {
        "id": "aUiuWwEc0GDI",
        "colab": {
          "base_uri": "https://localhost:8080/",
          "height": 201
        },
        "outputId": "d745f22d-f0f5-4041-e166-3cb254a89ee7"
      },
      "outputs": [
        {
          "output_type": "execute_result",
          "data": {
            "text/plain": [
              "         word  score\n",
              "0       অকথ্য   -2.5\n",
              "1        অকপট    2.0\n",
              "2  স্পষ্টভাৱে    2.2\n",
              "3       অসভ্য    1.3\n",
              "4    অযোগ্যতা   -1.8"
            ],
            "text/html": [
              "\n",
              "  <div id=\"df-063d54a4-78b7-4893-94f4-1a05693c0d36\">\n",
              "    <div class=\"colab-df-container\">\n",
              "      <div>\n",
              "<style scoped>\n",
              "    .dataframe tbody tr th:only-of-type {\n",
              "        vertical-align: middle;\n",
              "    }\n",
              "\n",
              "    .dataframe tbody tr th {\n",
              "        vertical-align: top;\n",
              "    }\n",
              "\n",
              "    .dataframe thead th {\n",
              "        text-align: right;\n",
              "    }\n",
              "</style>\n",
              "<table border=\"1\" class=\"dataframe\">\n",
              "  <thead>\n",
              "    <tr style=\"text-align: right;\">\n",
              "      <th></th>\n",
              "      <th>word</th>\n",
              "      <th>score</th>\n",
              "    </tr>\n",
              "  </thead>\n",
              "  <tbody>\n",
              "    <tr>\n",
              "      <th>0</th>\n",
              "      <td>অকথ্য</td>\n",
              "      <td>-2.5</td>\n",
              "    </tr>\n",
              "    <tr>\n",
              "      <th>1</th>\n",
              "      <td>অকপট</td>\n",
              "      <td>2.0</td>\n",
              "    </tr>\n",
              "    <tr>\n",
              "      <th>2</th>\n",
              "      <td>স্পষ্টভাৱে</td>\n",
              "      <td>2.2</td>\n",
              "    </tr>\n",
              "    <tr>\n",
              "      <th>3</th>\n",
              "      <td>অসভ্য</td>\n",
              "      <td>1.3</td>\n",
              "    </tr>\n",
              "    <tr>\n",
              "      <th>4</th>\n",
              "      <td>অযোগ্যতা</td>\n",
              "      <td>-1.8</td>\n",
              "    </tr>\n",
              "  </tbody>\n",
              "</table>\n",
              "</div>\n",
              "      <button class=\"colab-df-convert\" onclick=\"convertToInteractive('df-063d54a4-78b7-4893-94f4-1a05693c0d36')\"\n",
              "              title=\"Convert this dataframe to an interactive table.\"\n",
              "              style=\"display:none;\">\n",
              "        \n",
              "  <svg xmlns=\"http://www.w3.org/2000/svg\" height=\"24px\"viewBox=\"0 0 24 24\"\n",
              "       width=\"24px\">\n",
              "    <path d=\"M0 0h24v24H0V0z\" fill=\"none\"/>\n",
              "    <path d=\"M18.56 5.44l.94 2.06.94-2.06 2.06-.94-2.06-.94-.94-2.06-.94 2.06-2.06.94zm-11 1L8.5 8.5l.94-2.06 2.06-.94-2.06-.94L8.5 2.5l-.94 2.06-2.06.94zm10 10l.94 2.06.94-2.06 2.06-.94-2.06-.94-.94-2.06-.94 2.06-2.06.94z\"/><path d=\"M17.41 7.96l-1.37-1.37c-.4-.4-.92-.59-1.43-.59-.52 0-1.04.2-1.43.59L10.3 9.45l-7.72 7.72c-.78.78-.78 2.05 0 2.83L4 21.41c.39.39.9.59 1.41.59.51 0 1.02-.2 1.41-.59l7.78-7.78 2.81-2.81c.8-.78.8-2.07 0-2.86zM5.41 20L4 18.59l7.72-7.72 1.47 1.35L5.41 20z\"/>\n",
              "  </svg>\n",
              "      </button>\n",
              "      \n",
              "  <style>\n",
              "    .colab-df-container {\n",
              "      display:flex;\n",
              "      flex-wrap:wrap;\n",
              "      gap: 12px;\n",
              "    }\n",
              "\n",
              "    .colab-df-convert {\n",
              "      background-color: #E8F0FE;\n",
              "      border: none;\n",
              "      border-radius: 50%;\n",
              "      cursor: pointer;\n",
              "      display: none;\n",
              "      fill: #1967D2;\n",
              "      height: 32px;\n",
              "      padding: 0 0 0 0;\n",
              "      width: 32px;\n",
              "    }\n",
              "\n",
              "    .colab-df-convert:hover {\n",
              "      background-color: #E2EBFA;\n",
              "      box-shadow: 0px 1px 2px rgba(60, 64, 67, 0.3), 0px 1px 3px 1px rgba(60, 64, 67, 0.15);\n",
              "      fill: #174EA6;\n",
              "    }\n",
              "\n",
              "    [theme=dark] .colab-df-convert {\n",
              "      background-color: #3B4455;\n",
              "      fill: #D2E3FC;\n",
              "    }\n",
              "\n",
              "    [theme=dark] .colab-df-convert:hover {\n",
              "      background-color: #434B5C;\n",
              "      box-shadow: 0px 1px 3px 1px rgba(0, 0, 0, 0.15);\n",
              "      filter: drop-shadow(0px 1px 2px rgba(0, 0, 0, 0.3));\n",
              "      fill: #FFFFFF;\n",
              "    }\n",
              "  </style>\n",
              "\n",
              "      <script>\n",
              "        const buttonEl =\n",
              "          document.querySelector('#df-063d54a4-78b7-4893-94f4-1a05693c0d36 button.colab-df-convert');\n",
              "        buttonEl.style.display =\n",
              "          google.colab.kernel.accessAllowed ? 'block' : 'none';\n",
              "\n",
              "        async function convertToInteractive(key) {\n",
              "          const element = document.querySelector('#df-063d54a4-78b7-4893-94f4-1a05693c0d36');\n",
              "          const dataTable =\n",
              "            await google.colab.kernel.invokeFunction('convertToInteractive',\n",
              "                                                     [key], {});\n",
              "          if (!dataTable) return;\n",
              "\n",
              "          const docLinkHtml = 'Like what you see? Visit the ' +\n",
              "            '<a target=\"_blank\" href=https://colab.research.google.com/notebooks/data_table.ipynb>data table notebook</a>'\n",
              "            + ' to learn more about interactive tables.';\n",
              "          element.innerHTML = '';\n",
              "          dataTable['output_type'] = 'display_data';\n",
              "          await google.colab.output.renderOutput(dataTable, element);\n",
              "          const docLink = document.createElement('div');\n",
              "          docLink.innerHTML = docLinkHtml;\n",
              "          element.appendChild(docLink);\n",
              "        }\n",
              "      </script>\n",
              "    </div>\n",
              "  </div>\n",
              "  "
            ]
          },
          "metadata": {},
          "execution_count": 132
        }
      ],
      "source": [
        "import pandas as pd\n",
        "cf = pd.read_excel(r'/gdrive/My Drive/TextGenAss/lexicon.xlsx',sheet_name = 'Sheet1',header = 0) #put path to lexicon in your own system s\n",
        "df  = pd.DataFrame()\n",
        "df['word'] = cf['word'].values\n",
        "df['score'] = cf['score'].values\n",
        "df.head()"
      ]
    },
    {
      "cell_type": "markdown",
      "source": [
        "## Calculating the average score of each sentence"
      ],
      "metadata": {
        "id": "4scHPGiKG_QS"
      }
    },
    {
      "cell_type": "code",
      "source": [
        "#Basically I am taking each sentence from the string and the list and match the corresponding score in the wordlist of the dataframe, if match is found,add the value.\n",
        "#maybe not working, please test this part of the code 😂\n",
        "val = 0\n",
        "oov = 0\n",
        "sent_val = []\n",
        "oov_list = []\n",
        "for sent in text_list: #taking sentences in each \n",
        "  for i in df.index :\n",
        "    if str(df.at[i,'word']) in sent :\n",
        "      #print(df.at[i,'word'], ' : ', df.at[i,'score'])\n",
        "      val += df.at[i,'score']\n",
        "    else :\n",
        "      val += oov\n",
        "      oov_list.append(df.at[i,'word'])\n",
        "  sent_val.append(val/len(sent.split(' ')))\n",
        "  val = 0\n",
        "\n",
        "\n"
      ],
      "metadata": {
        "id": "12zvpAXqB0pW"
      },
      "execution_count": 136,
      "outputs": []
    },
    {
      "cell_type": "code",
      "source": [
        "print(sent_val)"
      ],
      "metadata": {
        "colab": {
          "base_uri": "https://localhost:8080/"
        },
        "id": "12PB7fbQCksN",
        "outputId": "cd3c8b57-13c2-4b49-e6dc-58eb9a747995"
      },
      "execution_count": 127,
      "outputs": [
        {
          "output_type": "stream",
          "name": "stdout",
          "text": [
            "[0.007272727272727275, -0.018656716417910446, -0.011111111111111108, 0.0, 0.0, 0.016883116883116885, 0.0375, 0.012096774193548387, 0.029054054054054052, -0.013414634146341465, 0.0]\n"
          ]
        }
      ]
    },
    {
      "cell_type": "code",
      "source": [
        ""
      ],
      "metadata": {
        "id": "lV_GiH4EOHNS"
      },
      "execution_count": null,
      "outputs": []
    }
  ],
  "metadata": {
    "colab": {
      "collapsed_sections": [],
      "name": "Siddhartha_sentiment.ipynb",
      "provenance": []
    },
    "kernelspec": {
      "display_name": "Python 3",
      "name": "python3"
    },
    "language_info": {
      "name": "python"
    }
  },
  "nbformat": 4,
  "nbformat_minor": 0
}